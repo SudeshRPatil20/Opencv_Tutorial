{
 "cells": [
  {
   "cell_type": "code",
   "execution_count": 1,
   "id": "cd3204d8",
   "metadata": {},
   "outputs": [],
   "source": [
    "import cv2"
   ]
  },
  {
   "cell_type": "code",
   "execution_count": 4,
   "id": "7309557d",
   "metadata": {},
   "outputs": [],
   "source": [
    "image=cv2.imread(\"./mountain_image.jpg\") #image can be loaded by using .imread() function"
   ]
  },
  {
   "cell_type": "code",
   "execution_count": 5,
   "id": "b526e367",
   "metadata": {},
   "outputs": [
    {
     "name": "stdout",
     "output_type": "stream",
     "text": [
      "image succesfull\n"
     ]
    }
   ],
   "source": [
    "if image is not None:\n",
    "    print(\"image succesfull\")\n",
    "else:\n",
    "    print(\"image not there\")"
   ]
  },
  {
   "cell_type": "code",
   "execution_count": null,
   "id": "79641be7",
   "metadata": {},
   "outputs": [],
   "source": [
    "#display the image\n",
    "cv2.imshow(\"Image windows\", image) #.imshow() is used to display the image \n",
    "cv2.waitKey(0) #.waitkey is used for close the image by clicking on the image\n",
    "cv2.destroyAllWindows() #.distroyAllWindows is used for end the process"
   ]
  },
  {
   "cell_type": "code",
   "execution_count": null,
   "id": "3b3b66b7",
   "metadata": {},
   "outputs": [
    {
     "data": {
      "text/plain": [
       "True"
      ]
     },
     "execution_count": 9,
     "metadata": {},
     "output_type": "execute_result"
    }
   ],
   "source": [
    "#write the image\n",
    "new_image=image + 30\n",
    "cv2.imwrite(\"./output.jpg\", new_image)"
   ]
  },
  {
   "cell_type": "code",
   "execution_count": null,
   "id": "cc0d8987",
   "metadata": {},
   "outputs": [],
   "source": []
  }
 ],
 "metadata": {
  "kernelspec": {
   "display_name": "Python 3",
   "language": "python",
   "name": "python3"
  },
  "language_info": {
   "codemirror_mode": {
    "name": "ipython",
    "version": 3
   },
   "file_extension": ".py",
   "mimetype": "text/x-python",
   "name": "python",
   "nbconvert_exporter": "python",
   "pygments_lexer": "ipython3",
   "version": "3.10.0"
  }
 },
 "nbformat": 4,
 "nbformat_minor": 5
}
