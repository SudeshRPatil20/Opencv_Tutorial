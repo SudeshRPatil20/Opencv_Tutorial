{
 "cells": [
  {
   "cell_type": "code",
   "execution_count": null,
   "id": "f6c83274",
   "metadata": {},
   "outputs": [],
   "source": [
    "#color spacing is concept of changing the color of image by using opencv which will use by computer for understanding the image\n",
    "import cv2"
   ]
  },
  {
   "cell_type": "code",
   "execution_count": 3,
   "id": "772361df",
   "metadata": {},
   "outputs": [],
   "source": [
    "bgr_image=cv2.imread(\"./mountain_image.jpg\")"
   ]
  },
  {
   "cell_type": "code",
   "execution_count": 4,
   "id": "eff97b84",
   "metadata": {},
   "outputs": [
    {
     "data": {
      "text/plain": [
       "True"
      ]
     },
     "execution_count": 4,
     "metadata": {},
     "output_type": "execute_result"
    }
   ],
   "source": [
    "#1st converitng bgr to grayscale image\n",
    "gray_image=cv2.cvtColor(bgr_image, cv2.COLOR_BGR2GRAY)\n",
    "cv2.imwrite(\"./gray_scale.jpg\", gray_image)"
   ]
  },
  {
   "cell_type": "code",
   "execution_count": 9,
   "id": "c5031b8b",
   "metadata": {},
   "outputs": [
    {
     "data": {
      "text/plain": [
       "True"
      ]
     },
     "execution_count": 9,
     "metadata": {},
     "output_type": "execute_result"
    }
   ],
   "source": [
    "#we convert from bgr to hsv as hsv is the format that is understandable by machine not by human\n",
    "hsv_image=cv2.cvtColor(bgr_image, cv2.COLOR_BGR2HSV)\n",
    "cv2.imwrite(\"./hsv_image.jpg\", hsv_image)"
   ]
  },
  {
   "cell_type": "code",
   "execution_count": 8,
   "id": "7aa56a88",
   "metadata": {},
   "outputs": [
    {
     "data": {
      "text/plain": [
       "True"
      ]
     },
     "execution_count": 8,
     "metadata": {},
     "output_type": "execute_result"
    }
   ],
   "source": [
    "# we converting image to lab that too is the same image which is understand by computer not by human\n",
    "lab_image=cv2.cvtColor(bgr_image, cv2.COLOR_BGR2LAB)\n",
    "cv2.imwrite(\"./lab_image.jpg\", lab_image)"
   ]
  },
  {
   "cell_type": "code",
   "execution_count": null,
   "id": "771e1f6f",
   "metadata": {},
   "outputs": [
    {
     "data": {
      "text/plain": [
       "True"
      ]
     },
     "execution_count": 10,
     "metadata": {},
     "output_type": "execute_result"
    }
   ],
   "source": [
    "# now we convert bgr to rgb\n",
    "rgb_image=cv2.cvtColor(bgr_image, cv2.COLOR_BGR2RGB)\n",
    "cv2.imwrite(\"./rgb_image.jpg\", rgb_image)\n",
    "\n",
    "# as the image is alredy in bgr so we not require to convert in bgr if you want to see you can see by computing it  "
   ]
  },
  {
   "cell_type": "code",
   "execution_count": null,
   "id": "bff0f38c",
   "metadata": {},
   "outputs": [],
   "source": []
  }
 ],
 "metadata": {
  "kernelspec": {
   "display_name": "Python 3",
   "language": "python",
   "name": "python3"
  },
  "language_info": {
   "codemirror_mode": {
    "name": "ipython",
    "version": 3
   },
   "file_extension": ".py",
   "mimetype": "text/x-python",
   "name": "python",
   "nbconvert_exporter": "python",
   "pygments_lexer": "ipython3",
   "version": "3.10.0"
  }
 },
 "nbformat": 4,
 "nbformat_minor": 5
}
